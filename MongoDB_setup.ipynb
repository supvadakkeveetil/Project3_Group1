{
 "cells": [
  {
   "cell_type": "markdown",
   "id": "17b33671",
   "metadata": {},
   "source": [
    "# Eat Safe, Love"
   ]
  },
  {
   "cell_type": "markdown",
   "id": "9ddf6b19",
   "metadata": {},
   "source": [
    "## Part 1: Database and Jupyter Notebook Set Up"
   ]
  },
  {
   "cell_type": "markdown",
   "id": "92040cdd",
   "metadata": {},
   "source": [
    "Import the data provided in the `Allwildfire.csv` file from your Terminal. Name the database `wildfire` and the collection `wildfire_ca`.\n",
    "\n",
    "Import the dataset with :\n",
    "mongoimport --db wildfire --collection wildfire_ca --type csv --headerline --file Allwildfire.csv"
   ]
  },
  {
   "cell_type": "code",
   "execution_count": 1,
   "id": "f02b43fd",
   "metadata": {},
   "outputs": [],
   "source": [
    "# Import dependencies\n",
    "from pymongo import MongoClient\n",
    "from pprint import pprint"
   ]
  },
  {
   "cell_type": "code",
   "execution_count": 2,
   "id": "00cf1bc6",
   "metadata": {},
   "outputs": [],
   "source": [
    "# Create an instance of MongoClient\n",
    "mongo = MongoClient(port=27017)"
   ]
  },
  {
   "cell_type": "code",
   "execution_count": 3,
   "id": "72d44ff6",
   "metadata": {},
   "outputs": [
    {
     "name": "stdout",
     "output_type": "stream",
     "text": [
      "['admin', 'config', 'epa', 'fruit_db', 'local', 'met', 'petsitly_marketing', 'travel_db', 'uk_food', 'wildfire']\n"
     ]
    }
   ],
   "source": [
    "# confirm that our new database was created\n",
    "print(mongo.list_database_names())"
   ]
  },
  {
   "cell_type": "code",
   "execution_count": 4,
   "id": "83f26a9c",
   "metadata": {},
   "outputs": [],
   "source": [
    "# assign the wildfire database to a variable name\n",
    "db = mongo['wildfire']"
   ]
  },
  {
   "cell_type": "code",
   "execution_count": 5,
   "id": "f8dc4486",
   "metadata": {},
   "outputs": [
    {
     "name": "stdout",
     "output_type": "stream",
     "text": [
      "['wildfire_ca']\n"
     ]
    }
   ],
   "source": [
    "# review the collections in our new database\n",
    "print(db.list_collection_names())"
   ]
  },
  {
   "cell_type": "code",
   "execution_count": 6,
   "id": "de90a7ee",
   "metadata": {},
   "outputs": [
    {
     "name": "stdout",
     "output_type": "stream",
     "text": [
      "['wildfire_ca']\n"
     ]
    }
   ],
   "source": [
    "# review the collections in our new database\n",
    "print(db.list_collection_names())"
   ]
  },
  {
   "cell_type": "code",
   "execution_count": 11,
   "id": "3ca61c7a",
   "metadata": {},
   "outputs": [
    {
     "name": "stdout",
     "output_type": "stream",
     "text": [
      "{'FIPS_NAME': 'Glenn County',\n",
      " 'FIRE_NAME': 'DOE',\n",
      " 'FIRE_SIZE': 589368.0,\n",
      " 'FIRE_YEAR': 2020,\n",
      " 'LATITUDE': 39.76525508,\n",
      " 'LONGITUDE': -122.6729135,\n",
      " 'NWCG_CAUSE_CLASSIFICATION': 'Natural',\n",
      " 'NWCG_GENERAL_CAUSE': 'Natural',\n",
      " 'STATE': 'CA',\n",
      " '_id': ObjectId('65ac1daf8b0793e3666c747d')}\n"
     ]
    }
   ],
   "source": [
    "# review a document in the wildfire_ca collection\n",
    "pprint(db.wildfire_ca.find_one({\"FIRE_NAME\": \"DOE\"}))"
   ]
  },
  {
   "cell_type": "code",
   "execution_count": 12,
   "id": "e9529ef0",
   "metadata": {},
   "outputs": [],
   "source": [
    "# assign the collection to a variable\n",
    "wildfire_ca = db['wildfire_ca']"
   ]
  }
 ],
 "metadata": {
  "kernelspec": {
   "display_name": "Python 3 (ipykernel)",
   "language": "python",
   "name": "python3"
  },
  "language_info": {
   "codemirror_mode": {
    "name": "ipython",
    "version": 3
   },
   "file_extension": ".py",
   "mimetype": "text/x-python",
   "name": "python",
   "nbconvert_exporter": "python",
   "pygments_lexer": "ipython3",
   "version": "3.7.7"
  }
 },
 "nbformat": 4,
 "nbformat_minor": 5
}
