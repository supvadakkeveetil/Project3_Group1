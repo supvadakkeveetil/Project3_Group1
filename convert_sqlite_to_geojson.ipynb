{
 "cells": [
  {
   "cell_type": "code",
   "execution_count": 1,
   "id": "18c807f0",
   "metadata": {},
   "outputs": [],
   "source": [
    "\n",
    "import sqlite3\n",
    "import geojson"
   ]
  },
  {
   "cell_type": "code",
   "execution_count": 2,
   "id": "70a756f9",
   "metadata": {},
   "outputs": [],
   "source": [
    "# Create a SQL connection to the SQLite database\n",
    "con = sqlite3.connect(r\"C:\\Users\\jesse\\FPA_FOD_20170508.sqlite\")\n",
    "cursor = con.cursor()\n",
    "\n",
    "# Execute the SQL query to retrieve the data\n",
    "cursor.execute('SELECT * FROM Fires')\n",
    "rows = cursor.fetchall()"
   ]
  },
  {
   "cell_type": "code",
   "execution_count": 3,
   "id": "afbe3422",
   "metadata": {},
   "outputs": [],
   "source": [
    "# Iterate over the rows and create GeoJSON features\n",
    "features = []\n",
    "for row in rows:\n",
    "    # Access the values using integer indices\n",
    "    longitude = row[5]\n",
    "    latitude = row[4]\n",
    "    fire_name = row[0]\n",
    "    fire_year = row[1]\n",
    "    stat_cause_descr = row[2]\n",
    "    fire_size = row[3]\n",
    "    state = row[6]\n",
    "\n",
    "    # Create a GeoJSON feature for each row of data\n",
    "    feature = geojson.Feature(\n",
    "        geometry=geojson.Point((longitude, latitude)),\n",
    "        properties={\n",
    "            'fireName': fire_name,\n",
    "            'fireYear': fire_year,\n",
    "            'fireCause': stat_cause_descr,\n",
    "            'fireSize': fire_size,\n",
    "            'longitude': longitude,\n",
    "            'latitude': latitude,\n",
    "            'State': state\n",
    "        }\n",
    "    )\n",
    "    features.append(feature)\n",
    "\n",
    "# Create a GeoJSON FeatureCollection from the features\n",
    "feature_collection = geojson.FeatureCollection(features)"
   ]
  },
  {
   "cell_type": "code",
   "execution_count": 4,
   "id": "dfca8657",
   "metadata": {},
   "outputs": [],
   "source": [
    "with open('output.geojson', 'w') as f:\n",
    "    geojson.dump(feature_collection, f)"
   ]
  },
  {
   "cell_type": "code",
   "execution_count": null,
   "id": "f01a1af0",
   "metadata": {},
   "outputs": [],
   "source": []
  }
 ],
 "metadata": {
  "kernelspec": {
   "display_name": "PythonData",
   "language": "python",
   "name": "pythondata"
  },
  "language_info": {
   "codemirror_mode": {
    "name": "ipython",
    "version": 3
   },
   "file_extension": ".py",
   "mimetype": "text/x-python",
   "name": "python",
   "nbconvert_exporter": "python",
   "pygments_lexer": "ipython3",
   "version": "3.7.7"
  }
 },
 "nbformat": 4,
 "nbformat_minor": 5
}
